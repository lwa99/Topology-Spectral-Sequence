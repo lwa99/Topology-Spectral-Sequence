{
 "cells": [
  {
   "cell_type": "code",
   "execution_count": 1,
   "id": "91ea1f86-38dd-4939-9e44-d053fe541118",
   "metadata": {},
   "outputs": [
    {
     "name": "stdout",
     "output_type": "stream",
     "text": [
      "Hello World\n"
     ]
    }
   ],
   "source": [
    "print(\"Hello World\")"
   ]
  },
  {
   "cell_type": "code",
   "execution_count": 3,
   "id": "63281ef3-e70b-4941-adca-6899dc086a88",
   "metadata": {},
   "outputs": [
    {
     "name": "stdout",
     "output_type": "stream",
     "text": [
      "Next page of the spectral sequence:\n",
      "E_2^(0, 0) = Vector space quotient V/W of dimension 0 over Rational Field where\n",
      "V: Vector space of degree 1 and dimension 0 over Rational Field\n",
      "Basis matrix:\n",
      "[]\n",
      "W: Vector space of degree 1 and dimension 0 over Rational Field\n",
      "Basis matrix:\n",
      "[]\n",
      "E_2^(1, 0) = Vector space quotient V/W of dimension 1 over Rational Field where\n",
      "V: Vector space of dimension 2 over Rational Field\n",
      "W: Vector space of degree 2 and dimension 1 over Rational Field\n",
      "Basis matrix:\n",
      "[1 0]\n",
      "E_2^(0, 1) = Vector space quotient V/W of dimension 0 over Rational Field where\n",
      "V: Vector space of degree 1 and dimension 0 over Rational Field\n",
      "Basis matrix:\n",
      "[]\n",
      "W: Vector space of degree 1 and dimension 0 over Rational Field\n",
      "Basis matrix:\n",
      "[]\n",
      "E_2^(1, 1) = Vector space quotient V/W of dimension 0 over Rational Field where\n",
      "V: Vector space of dimension 1 over Rational Field\n",
      "W: Vector space of degree 1 and dimension 1 over Rational Field\n",
      "Basis matrix:\n",
      "[1]\n"
     ]
    }
   ],
   "source": [
    "r = 1\n",
    "E_r = {\n",
    "    (0, 0): VectorSpace(QQ, 1),  # 1-dimensional vector space\n",
    "    (1, 0): VectorSpace(QQ, 2),  # 2-dimensional vector space\n",
    "    (0, 1): VectorSpace(QQ, 1),  # 1-dimensional vector space\n",
    "    (1, 1): VectorSpace(QQ, 1),  # 1-dimensional vector space\n",
    "}\n",
    "\n",
    "# Example: Define differentials d_r\n",
    "differentials = {\n",
    "    ((0, 0), (1, 0)): matrix(QQ, [[1, 0]]),  # d_r: E_r^{0,0} -> E_r^{1,0}\n",
    "    ((0, 1), (1, 1)): matrix(QQ, [[1]]),     # d_r: E_r^{0,1} -> E_r^{1,1}\n",
    "}\n",
    "\n",
    "def compute_next_page(E_r, differentials):\n",
    "    E_next = {}\n",
    "    for (p, q) in E_r.keys():\n",
    "        # Compute the kernel of d_r^{p,q}\n",
    "        if ((p, q), (p + r, q - r + 1)) in differentials:\n",
    "            d = differentials[((p, q), (p + r, q - r + 1))]\n",
    "            ker = d.kernel()\n",
    "        else:\n",
    "            ker = E_r[(p, q)]\n",
    "\n",
    "        # Compute the image of d_r^{p-r, q+r-1}\n",
    "        if ((p - r, q + r - 1), (p, q)) in differentials:\n",
    "            d_prev = differentials[((p - r, q + r - 1), (p, q))]\n",
    "            im = d_prev.image()\n",
    "        else:\n",
    "            im = VectorSpace(QQ, 0)  # Zero space\n",
    "\n",
    "        # Compute the homology\n",
    "        E_next[(p, q)] = ker / im\n",
    "\n",
    "    return E_next\n",
    "\n",
    "# Example: Compute the next page\n",
    "E_next = compute_next_page(E_r, differentials)\n",
    "\n",
    "# Print the next page\n",
    "print(\"Next page of the spectral sequence:\")\n",
    "for (p, q) in E_next.keys():\n",
    "    print(f\"E_{r+1}^{p,q} = {E_next[(p, q)]}\")"
   ]
  },
  {
   "cell_type": "code",
   "execution_count": null,
   "id": "aaafe80c-6e63-431b-8c2b-b60df9b1f830",
   "metadata": {},
   "outputs": [],
   "source": []
  }
 ],
 "metadata": {
  "kernelspec": {
   "display_name": "SageMath 10.5",
   "language": "sage",
   "name": "sagemath"
  },
  "language_info": {
   "codemirror_mode": {
    "name": "ipython",
    "version": 3
   },
   "file_extension": ".py",
   "mimetype": "text/x-python",
   "name": "python",
   "nbconvert_exporter": "python",
   "pygments_lexer": "ipython3",
   "version": "3.11.11"
  }
 },
 "nbformat": 4,
 "nbformat_minor": 5
}
